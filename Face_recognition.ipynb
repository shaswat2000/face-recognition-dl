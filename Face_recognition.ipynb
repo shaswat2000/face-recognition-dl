{
  "nbformat": 4,
  "nbformat_minor": 0,
  "metadata": {
    "colab": {
      "provenance": [],
      "authorship_tag": "ABX9TyPTZzJVLpmH99uyA/zLti5V",
      "include_colab_link": true
    },
    "kernelspec": {
      "name": "python3",
      "display_name": "Python 3"
    }
  },
  "cells": [
    {
      "cell_type": "markdown",
      "metadata": {
        "id": "view-in-github",
        "colab_type": "text"
      },
      "source": [
        "<a href=\"https://colab.research.google.com/github/shaswat2000/face-recognition-dl/blob/main/Face_recognition.ipynb\" target=\"_parent\"><img src=\"https://colab.research.google.com/assets/colab-badge.svg\" alt=\"Open In Colab\"/></a>"
      ]
    },
    {
      "cell_type": "code",
      "metadata": {
        "id": "lEQdJx15zc1r"
      },
      "source": [
        "import tensorflow as tf\n",
        "import matplotlib.pyplot as plt\n",
        "import os\n",
        "import cv2\n",
        "import numpy as np\n",
        "import random\n",
        "from tqdm import tqdm"
      ],
      "execution_count": null,
      "outputs": []
    },
    {
      "cell_type": "code",
      "metadata": {
        "id": "TasGTwT86qYH",
        "outputId": "2891a844-357f-4f31-f33e-59105b39bab4",
        "colab": {
          "base_uri": "https://localhost:8080/",
          "height": 54
        }
      },
      "source": [
        "from google.colab import drive\n",
        "drive.mount('/content/drive', force_remount = False)"
      ],
      "execution_count": null,
      "outputs": [
        {
          "output_type": "stream",
          "text": [
            "Drive already mounted at /content/drive; to attempt to forcibly remount, call drive.mount(\"/content/drive\", force_remount=True).\n"
          ],
          "name": "stdout"
        }
      ]
    },
    {
      "cell_type": "code",
      "metadata": {
        "id": "NOTazEAu_EOZ"
      },
      "source": [
        "root_path = '/content/drive/My Drive/Face Recognition Dataset'\n",
        "CATEGORIES = ['Other Faces', 'Shaswat']"
      ],
      "execution_count": null,
      "outputs": []
    },
    {
      "cell_type": "code",
      "metadata": {
        "id": "LbrC1X-EBsDt"
      },
      "source": [
        "#import other faces from drive\n",
        "\n",
        "train_img = []\n",
        "train_label = []\n",
        "IMG_SIZE = 50\n",
        "x = 0\n",
        "\n",
        "#for category in CATEGORIES:\n",
        "category = 'Other Faces'\n",
        "path = os.path.join(root_path, category)\n",
        "for img in os.listdir(path):\n",
        "  try: \n",
        "    img_array = cv2.imread(os.path.join(path, img), cv2.IMREAD_GRAYSCALE)\n",
        "    img_array = cv2.resize(img_array, (IMG_SIZE, IMG_SIZE))\n",
        "    i = 0\n",
        "  \n",
        "    if (x <= 200):\n",
        "      train_img.append(img_array)\n",
        "      train_label.append(i)\n",
        "    else:\n",
        "      break\n",
        "    \n",
        "  except Exception as e:\n",
        "    pass \n",
        "  x = x+1\n",
        "  print('Other '+str(x))\n"
      ],
      "execution_count": null,
      "outputs": []
    },
    {
      "cell_type": "code",
      "metadata": {
        "id": "gh2EiUOECKub"
      },
      "source": [
        "datagen = tf.keras.preprocessing.image.ImageDataGenerator(rotation_range = 5, width_shift_range = 0.1, height_shift_range = 0.1, brightness_range = [0.5, 1.5], zoom_range = [0.9, 1.1], horizontal_flip = False, rescale = 1/255.0, preprocessing_function= None)"
      ],
      "execution_count": null,
      "outputs": []
    },
    {
      "cell_type": "code",
      "metadata": {
        "id": "qfDJ2Jd9Kvdm",
        "outputId": "907a09ea-1f1b-4840-80c2-cc8e3d4b19df",
        "colab": {
          "base_uri": "https://localhost:8080/",
          "height": 357
        }
      },
      "source": [
        "#import actual faces from drive\n",
        "\n",
        "#train_img = []\n",
        "#train_label = []\n",
        "IMG_SIZE = 50\n",
        "x = 0\n",
        "\n",
        "#for category in CATEGORIES:\n",
        "category = 'Baba'\n",
        "path = os.path.join(root_path, category)\n",
        "for img in os.listdir(path):\n",
        "  try: \n",
        "    img_array = cv2.imread(os.path.join(path, img), cv2.IMREAD_GRAYSCALE)\n",
        "    img_array = cv2.resize(img_array, (IMG_SIZE, IMG_SIZE))\n",
        "    i = 5\n",
        "  \n",
        "    if (x <= 20):\n",
        "      train_img.append(img_array)\n",
        "      train_label.append(i)\n",
        "    else:\n",
        "      break\n",
        "    \n",
        "  except Exception as e:\n",
        "    pass \n",
        "  x = x+1\n",
        "  print(str(i)+' '+str(x))\n"
      ],
      "execution_count": null,
      "outputs": [
        {
          "output_type": "stream",
          "text": [
            "5 1\n",
            "5 2\n",
            "5 3\n",
            "5 4\n",
            "5 5\n",
            "5 6\n",
            "5 7\n",
            "5 8\n",
            "5 9\n",
            "5 10\n",
            "5 11\n",
            "5 12\n",
            "5 13\n",
            "5 14\n",
            "5 15\n",
            "5 16\n",
            "5 17\n",
            "5 18\n",
            "5 19\n",
            "5 20\n"
          ],
          "name": "stdout"
        }
      ]
    },
    {
      "cell_type": "code",
      "metadata": {
        "id": "VhlIb7lPdXAg"
      },
      "source": [
        "train_img1 = np.array(train_img1).reshape(-1, IMG_SIZE, IMG_SIZE, 1)\n",
        "#train_img1 = (train_img1)/255.0\n",
        "#train_label = np.array(train_label)"
      ],
      "execution_count": null,
      "outputs": []
    },
    {
      "cell_type": "code",
      "metadata": {
        "id": "QaWIbaXUfG17"
      },
      "source": [
        "i = 0\n",
        "while(i<200):\n",
        "  train_img.pop()\n",
        "  train_label.pop()\n",
        "  i = i+1"
      ],
      "execution_count": null,
      "outputs": []
    },
    {
      "cell_type": "code",
      "metadata": {
        "id": "6snklg_dQ_eO"
      },
      "source": [
        "#import augmented images from directory\n",
        "\n",
        "IMG_SIZE = 50\n",
        "x = 0\n",
        "new_path = '/content/5'\n",
        "#for category in CATEGORIES:\n",
        "#category = ''\n",
        "#path = os.path.join(new_path, category)\n",
        "for img in os.listdir(new_path):\n",
        "  try: \n",
        "    img_array = cv2.imread(os.path.join(new_path, img), cv2.IMREAD_GRAYSCALE)\n",
        "    img_array = cv2.resize(img_array, (IMG_SIZE, IMG_SIZE))\n",
        "    i = 5\n",
        "    if (x <= 200):\n",
        "      train_img.append(img_array)\n",
        "      train_label.append(i)\n",
        "    else:\n",
        "      break\n",
        "    \n",
        "  except Exception as e:\n",
        "    pass \n",
        "  x = x+1\n",
        "  print(str(i)+' '+str(x))\n"
      ],
      "execution_count": null,
      "outputs": []
    },
    {
      "cell_type": "code",
      "metadata": {
        "id": "OM3xpR4bKufs",
        "outputId": "47bd8ceb-e64a-4dfc-b3de-aa1e3c81850b",
        "colab": {
          "base_uri": "https://localhost:8080/",
          "height": 51
        }
      },
      "source": [
        "print(len(train_img))\n",
        "print(train_label[50])\n",
        "#plt.imshow(train_img[1])"
      ],
      "execution_count": null,
      "outputs": [
        {
          "output_type": "stream",
          "text": [
            "100\n",
            "3\n"
          ],
          "name": "stdout"
        }
      ]
    },
    {
      "cell_type": "code",
      "metadata": {
        "id": "0DhZt2slI4Jz"
      },
      "source": [
        "#augment images of train_img1\n",
        "\n",
        "i = 0\n",
        "for batch in datagen.flow(train_img1, batch_size=1, save_to_dir ='5' , save_prefix = 'image', save_format = 'jpg'):\n",
        "  \n",
        "  print(i)\n",
        "  i = i+1\n",
        "  if i>=200:\n",
        "    break"
      ],
      "execution_count": null,
      "outputs": []
    },
    {
      "cell_type": "code",
      "metadata": {
        "id": "j88wpmu4fk0C"
      },
      "source": [
        "temp = list(zip(train_img, train_label))\n",
        "random.shuffle(temp)\n",
        "train_img, train_label = zip(*temp)"
      ],
      "execution_count": null,
      "outputs": []
    },
    {
      "cell_type": "code",
      "metadata": {
        "id": "h57lHi2SEk60"
      },
      "source": [
        "train_img1 = np.array(train_img1).reshape(-1, IMG_SIZE, IMG_SIZE, 1)\n",
        "#train_img1 = (train_img1)/255.0\n",
        "#train_label = np.array(train_label)"
      ],
      "execution_count": null,
      "outputs": []
    },
    {
      "cell_type": "code",
      "metadata": {
        "id": "aCwshl46zsic"
      },
      "source": [
        "train_img = np.array(train_img).reshape(-1, IMG_SIZE, IMG_SIZE, 1)\n",
        "train_img = (train_img)/255.0\n",
        "train_label = np.array(train_label)"
      ],
      "execution_count": null,
      "outputs": []
    },
    {
      "cell_type": "code",
      "metadata": {
        "id": "Rf29-l8YlI4R"
      },
      "source": [
        "model = tf.keras.models.Sequential([\n",
        "                                    tf.keras.layers.Conv2D(32, (3,3) , activation = 'relu', input_shape = (IMG_SIZE, IMG_SIZE, 1)),\n",
        "                                    #tf.keras.layers.MaxPooling2D(2,2),                                   \n",
        "                                    tf.keras.layers.Conv2D(64, (3,3), activation ='relu'),                     \n",
        "                                    tf.keras.layers.MaxPooling2D(2,2),\n",
        "                                    tf.keras.layers.Dropout(0.25),\n",
        "                                    tf.keras.layers.Conv2D(128, (3,3), activation ='relu'),                     \n",
        "                                    tf.keras.layers.MaxPooling2D(2,2),\n",
        "                                    tf.keras.layers.Dropout(0.25),                                           \n",
        "                                    tf.keras.layers.Conv2D(128, (3,3), activation ='relu'),\n",
        "                                    tf.keras.layers.MaxPooling2D(2,2),\n",
        "                                    tf.keras.layers.Dropout(0.25),\n",
        "                                    tf.keras.layers.Flatten(),                                 \n",
        "                                    tf.keras.layers.Dense(64, activation= 'relu'),\n",
        "                                    tf.keras.layers.Dropout(0.5),\n",
        "                                    tf.keras.layers.Dense(64, activation= 'relu'),\n",
        "                                    tf.keras.layers.Dropout(0.5),\n",
        "                                    tf.keras.layers.Dense(6, activation = 'softmax')\n",
        "])\n"
      ],
      "execution_count": null,
      "outputs": []
    },
    {
      "cell_type": "code",
      "metadata": {
        "id": "i-XDjEqx7Q4R"
      },
      "source": [
        "model = cv2.face.LBPHFaceRecognizer_create()"
      ],
      "execution_count": null,
      "outputs": []
    },
    {
      "cell_type": "code",
      "metadata": {
        "id": "wlfjvejp74dz"
      },
      "source": [
        "model.train(train_img, np.array(train_label))"
      ],
      "execution_count": null,
      "outputs": []
    },
    {
      "cell_type": "code",
      "metadata": {
        "id": "CKjbcyLelMnk"
      },
      "source": [
        "model.compile(optimizer = 'sgd', loss = 'sparse_categorical_crossentropy', metrics = ['accuracy'])"
      ],
      "execution_count": null,
      "outputs": []
    },
    {
      "cell_type": "code",
      "metadata": {
        "id": "chyigotxlP1M"
      },
      "source": [
        "model.fit(train_img, train_label, batch_size = 32, epochs = 150, validation_split = 0.2, shuffle = True)"
      ],
      "execution_count": null,
      "outputs": []
    },
    {
      "cell_type": "code",
      "metadata": {
        "id": "q39RtQd5APoG"
      },
      "source": [
        "model.save('face_recognition_LBPH.xml')"
      ],
      "execution_count": null,
      "outputs": []
    },
    {
      "cell_type": "code",
      "metadata": {
        "id": "7EJ_L6ZoATf1"
      },
      "source": [
        "model = tf.keras.models.load_model('/content/drive/My Drive/face_recognition_.h5')"
      ],
      "execution_count": null,
      "outputs": []
    }
  ]
}